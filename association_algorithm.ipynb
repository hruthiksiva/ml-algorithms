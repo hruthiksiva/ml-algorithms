{
  "nbformat": 4,
  "nbformat_minor": 0,
  "metadata": {
    "colab": {
      "provenance": [],
      "authorship_tag": "ABX9TyNE2zlWCz8WibFXh40DYu81",
      "include_colab_link": true
    },
    "kernelspec": {
      "name": "python3",
      "display_name": "Python 3"
    },
    "language_info": {
      "name": "python"
    }
  },
  "cells": [
    {
      "cell_type": "markdown",
      "metadata": {
        "id": "view-in-github",
        "colab_type": "text"
      },
      "source": [
        "<a href=\"https://colab.research.google.com/github/hruthiksiva/ml-algorithms/blob/main/association_algorithm.ipynb\" target=\"_parent\"><img src=\"https://colab.research.google.com/assets/colab-badge.svg\" alt=\"Open In Colab\"/></a>"
      ]
    },
    {
      "cell_type": "markdown",
      "source": [
        "# Aprirori Algorithms"
      ],
      "metadata": {
        "id": "LfaympgBSch7"
      }
    },
    {
      "cell_type": "code",
      "source": [
        "!pip install --upgrade mlxtend\n"
      ],
      "metadata": {
        "colab": {
          "base_uri": "https://localhost:8080/",
          "height": 689
        },
        "id": "odVrJv-PUUHL",
        "outputId": "a792a16f-70cf-43e2-ec5a-f437c48d34d0"
      },
      "execution_count": 14,
      "outputs": [
        {
          "output_type": "stream",
          "name": "stderr",
          "text": [
            "/usr/local/lib/python3.10/dist-packages/ipykernel/ipkernel.py:283: DeprecationWarning: `should_run_async` will not call `transform_cell` automatically in the future. Please pass the result to `transformed_cell` argument and any exception that happen during thetransform in `preprocessing_exc_tuple` in IPython 7.17 and above.\n",
            "  and should_run_async(code)\n"
          ]
        },
        {
          "output_type": "stream",
          "name": "stdout",
          "text": [
            "Requirement already satisfied: mlxtend in /usr/local/lib/python3.10/dist-packages (0.23.2)\n",
            "Collecting mlxtend\n",
            "  Downloading mlxtend-0.23.3-py3-none-any.whl.metadata (7.3 kB)\n",
            "Requirement already satisfied: scipy>=1.2.1 in /usr/local/lib/python3.10/dist-packages (from mlxtend) (1.13.1)\n",
            "Requirement already satisfied: numpy>=1.16.2 in /usr/local/lib/python3.10/dist-packages (from mlxtend) (1.26.4)\n",
            "Requirement already satisfied: pandas>=0.24.2 in /usr/local/lib/python3.10/dist-packages (from mlxtend) (2.2.2)\n",
            "Requirement already satisfied: scikit-learn>=1.3.1 in /usr/local/lib/python3.10/dist-packages (from mlxtend) (1.5.2)\n",
            "Requirement already satisfied: matplotlib>=3.0.0 in /usr/local/lib/python3.10/dist-packages (from mlxtend) (3.8.0)\n",
            "Requirement already satisfied: joblib>=0.13.2 in /usr/local/lib/python3.10/dist-packages (from mlxtend) (1.4.2)\n",
            "Requirement already satisfied: contourpy>=1.0.1 in /usr/local/lib/python3.10/dist-packages (from matplotlib>=3.0.0->mlxtend) (1.3.1)\n",
            "Requirement already satisfied: cycler>=0.10 in /usr/local/lib/python3.10/dist-packages (from matplotlib>=3.0.0->mlxtend) (0.12.1)\n",
            "Requirement already satisfied: fonttools>=4.22.0 in /usr/local/lib/python3.10/dist-packages (from matplotlib>=3.0.0->mlxtend) (4.54.1)\n",
            "Requirement already satisfied: kiwisolver>=1.0.1 in /usr/local/lib/python3.10/dist-packages (from matplotlib>=3.0.0->mlxtend) (1.4.7)\n",
            "Requirement already satisfied: packaging>=20.0 in /usr/local/lib/python3.10/dist-packages (from matplotlib>=3.0.0->mlxtend) (24.2)\n",
            "Requirement already satisfied: pillow>=6.2.0 in /usr/local/lib/python3.10/dist-packages (from matplotlib>=3.0.0->mlxtend) (11.0.0)\n",
            "Requirement already satisfied: pyparsing>=2.3.1 in /usr/local/lib/python3.10/dist-packages (from matplotlib>=3.0.0->mlxtend) (3.2.0)\n",
            "Requirement already satisfied: python-dateutil>=2.7 in /usr/local/lib/python3.10/dist-packages (from matplotlib>=3.0.0->mlxtend) (2.8.2)\n",
            "Requirement already satisfied: pytz>=2020.1 in /usr/local/lib/python3.10/dist-packages (from pandas>=0.24.2->mlxtend) (2024.2)\n",
            "Requirement already satisfied: tzdata>=2022.7 in /usr/local/lib/python3.10/dist-packages (from pandas>=0.24.2->mlxtend) (2024.2)\n",
            "Requirement already satisfied: threadpoolctl>=3.1.0 in /usr/local/lib/python3.10/dist-packages (from scikit-learn>=1.3.1->mlxtend) (3.5.0)\n",
            "Requirement already satisfied: six>=1.5 in /usr/local/lib/python3.10/dist-packages (from python-dateutil>=2.7->matplotlib>=3.0.0->mlxtend) (1.16.0)\n",
            "Downloading mlxtend-0.23.3-py3-none-any.whl (1.4 MB)\n",
            "\u001b[2K   \u001b[90m━━━━━━━━━━━━━━━━━━━━━━━━━━━━━━━━━━━━━━━━\u001b[0m \u001b[32m1.4/1.4 MB\u001b[0m \u001b[31m13.2 MB/s\u001b[0m eta \u001b[36m0:00:00\u001b[0m\n",
            "\u001b[?25hInstalling collected packages: mlxtend\n",
            "  Attempting uninstall: mlxtend\n",
            "    Found existing installation: mlxtend 0.23.2\n",
            "    Uninstalling mlxtend-0.23.2:\n",
            "      Successfully uninstalled mlxtend-0.23.2\n",
            "Successfully installed mlxtend-0.23.3\n"
          ]
        },
        {
          "output_type": "display_data",
          "data": {
            "application/vnd.colab-display-data+json": {
              "pip_warning": {
                "packages": [
                  "mlxtend"
                ]
              },
              "id": "847e8d53ef8f42aebde67e53916048cf"
            }
          },
          "metadata": {}
        }
      ]
    },
    {
      "cell_type": "code",
      "execution_count": 1,
      "metadata": {
        "id": "uicJSizUMWmA"
      },
      "outputs": [],
      "source": [
        "from mlxtend.frequent_patterns import apriori, association_rules"
      ]
    },
    {
      "cell_type": "code",
      "source": [
        "import pandas as pd"
      ],
      "metadata": {
        "colab": {
          "base_uri": "https://localhost:8080/"
        },
        "id": "Ge6CpAN4Sk3E",
        "outputId": "811f7742-4b57-41ea-a7ef-ac34a6ded23f"
      },
      "execution_count": 2,
      "outputs": [
        {
          "output_type": "stream",
          "name": "stderr",
          "text": [
            "/usr/local/lib/python3.10/dist-packages/ipykernel/ipkernel.py:283: DeprecationWarning: `should_run_async` will not call `transform_cell` automatically in the future. Please pass the result to `transformed_cell` argument and any exception that happen during thetransform in `preprocessing_exc_tuple` in IPython 7.17 and above.\n",
            "  and should_run_async(code)\n"
          ]
        }
      ]
    },
    {
      "cell_type": "code",
      "source": [
        "data = {'Milk': [1, 0, 1, 1],\n",
        "        'Bread': [1, 1, 1, 1],\n",
        "        'Butter': [0, 1, 1, 1]}\n",
        "df = pd.DataFrame(data)"
      ],
      "metadata": {
        "colab": {
          "base_uri": "https://localhost:8080/"
        },
        "id": "nISCvLKXSmX8",
        "outputId": "27b276b1-02f8-44b7-87e9-b06d7b728969"
      },
      "execution_count": 3,
      "outputs": [
        {
          "output_type": "stream",
          "name": "stderr",
          "text": [
            "/usr/local/lib/python3.10/dist-packages/ipykernel/ipkernel.py:283: DeprecationWarning: `should_run_async` will not call `transform_cell` automatically in the future. Please pass the result to `transformed_cell` argument and any exception that happen during thetransform in `preprocessing_exc_tuple` in IPython 7.17 and above.\n",
            "  and should_run_async(code)\n"
          ]
        }
      ]
    },
    {
      "cell_type": "code",
      "source": [
        "# Finding frequent itemsets\n",
        "frequent_itemsets = apriori(df, min_support=0.5, use_colnames=True)\n",
        "print(\"Frequent Itemsets:\\n\", frequent_itemsets)"
      ],
      "metadata": {
        "colab": {
          "base_uri": "https://localhost:8080/"
        },
        "id": "S31rGjocTapd",
        "outputId": "8472dbd2-6af9-471d-f225-c6e584e61be2"
      },
      "execution_count": 4,
      "outputs": [
        {
          "output_type": "stream",
          "name": "stdout",
          "text": [
            "Frequent Itemsets:\n",
            "    support               itemsets\n",
            "0     0.75                 (Milk)\n",
            "1     1.00                (Bread)\n",
            "2     0.75               (Butter)\n",
            "3     0.75          (Milk, Bread)\n",
            "4     0.50         (Butter, Milk)\n",
            "5     0.75        (Butter, Bread)\n",
            "6     0.50  (Butter, Milk, Bread)\n"
          ]
        },
        {
          "output_type": "stream",
          "name": "stderr",
          "text": [
            "/usr/local/lib/python3.10/dist-packages/ipykernel/ipkernel.py:283: DeprecationWarning: `should_run_async` will not call `transform_cell` automatically in the future. Please pass the result to `transformed_cell` argument and any exception that happen during thetransform in `preprocessing_exc_tuple` in IPython 7.17 and above.\n",
            "  and should_run_async(code)\n",
            "/usr/local/lib/python3.10/dist-packages/mlxtend/frequent_patterns/fpcommon.py:161: DeprecationWarning: DataFrames with non-bool types result in worse computationalperformance and their support might be discontinued in the future.Please use a DataFrame with bool type\n",
            "  warnings.warn(\n"
          ]
        }
      ]
    },
    {
      "cell_type": "code",
      "source": [
        "# Generating association rules\n",
        "rules = association_rules(frequent_itemsets, metric=\"confidence\", min_threshold=0.7,num_itemsets=2)\n",
        "print(\"\\nAssociation Rules:\\n\", rules)\n"
      ],
      "metadata": {
        "colab": {
          "base_uri": "https://localhost:8080/"
        },
        "id": "_R-6Ew8tThTr",
        "outputId": "eed7ea5d-4d54-4de0-8900-546749f9c2ab"
      },
      "execution_count": 8,
      "outputs": [
        {
          "output_type": "stream",
          "name": "stdout",
          "text": [
            "\n",
            "Association Rules:\n",
            "       antecedents consequents  antecedent support  consequent support  \\\n",
            "0          (Milk)     (Bread)                0.75                1.00   \n",
            "1         (Bread)      (Milk)                1.00                0.75   \n",
            "2        (Butter)     (Bread)                0.75                1.00   \n",
            "3         (Bread)    (Butter)                1.00                0.75   \n",
            "4  (Butter, Milk)     (Bread)                0.50                1.00   \n",
            "\n",
            "   support  confidence  lift  representativity  leverage  conviction  \\\n",
            "0     0.75        1.00   1.0               1.0       0.0         inf   \n",
            "1     0.75        0.75   1.0               1.0       0.0         1.0   \n",
            "2     0.75        1.00   1.0               1.0       0.0         inf   \n",
            "3     0.75        0.75   1.0               1.0       0.0         1.0   \n",
            "4     0.50        1.00   1.0               1.0       0.0         inf   \n",
            "\n",
            "   zhangs_metric  jaccard  certainty  kulczynski  \n",
            "0            0.0     0.75        0.0       0.875  \n",
            "1            0.0     0.75        0.0       0.875  \n",
            "2            0.0     0.75        0.0       0.875  \n",
            "3            0.0     0.75        0.0       0.875  \n",
            "4            0.0     0.50        0.0       0.750  \n"
          ]
        },
        {
          "output_type": "stream",
          "name": "stderr",
          "text": [
            "/usr/local/lib/python3.10/dist-packages/ipykernel/ipkernel.py:283: DeprecationWarning: `should_run_async` will not call `transform_cell` automatically in the future. Please pass the result to `transformed_cell` argument and any exception that happen during thetransform in `preprocessing_exc_tuple` in IPython 7.17 and above.\n",
            "  and should_run_async(code)\n",
            "/usr/local/lib/python3.10/dist-packages/mlxtend/frequent_patterns/association_rules.py:182: RuntimeWarning: invalid value encountered in divide\n",
            "  cert_metric = np.where(certainty_denom == 0, 0, certainty_num / certainty_denom)\n"
          ]
        }
      ]
    },
    {
      "cell_type": "markdown",
      "source": [
        "# FP Growth Algorithm"
      ],
      "metadata": {
        "id": "danrQCJdTt4Y"
      }
    },
    {
      "cell_type": "code",
      "source": [
        "from mlxtend.frequent_patterns import fpgrowth\n"
      ],
      "metadata": {
        "colab": {
          "base_uri": "https://localhost:8080/"
        },
        "id": "kMd7_OiTTvN_",
        "outputId": "a5435ef5-6c05-49da-fbcc-af276770c822"
      },
      "execution_count": 6,
      "outputs": [
        {
          "output_type": "stream",
          "name": "stderr",
          "text": [
            "/usr/local/lib/python3.10/dist-packages/ipykernel/ipkernel.py:283: DeprecationWarning: `should_run_async` will not call `transform_cell` automatically in the future. Please pass the result to `transformed_cell` argument and any exception that happen during thetransform in `preprocessing_exc_tuple` in IPython 7.17 and above.\n",
            "  and should_run_async(code)\n"
          ]
        }
      ]
    },
    {
      "cell_type": "code",
      "source": [
        "# Using the same dataset\n",
        "rules = association_rules(frequent_itemsets, metric=\"confidence\", min_threshold=0.7,num_itemsets=1)\n",
        "print(\"Frequent Itemsets (FP-Growth):\\n\", rules)"
      ],
      "metadata": {
        "colab": {
          "base_uri": "https://localhost:8080/"
        },
        "id": "2SExQMHFTxGs",
        "outputId": "8b386fdd-95bb-4440-edea-aa7a2c3c8036"
      },
      "execution_count": 9,
      "outputs": [
        {
          "output_type": "stream",
          "name": "stdout",
          "text": [
            "Frequent Itemsets (FP-Growth):\n",
            "       antecedents consequents  antecedent support  consequent support  \\\n",
            "0          (Milk)     (Bread)                0.75                1.00   \n",
            "1         (Bread)      (Milk)                1.00                0.75   \n",
            "2        (Butter)     (Bread)                0.75                1.00   \n",
            "3         (Bread)    (Butter)                1.00                0.75   \n",
            "4  (Butter, Milk)     (Bread)                0.50                1.00   \n",
            "\n",
            "   support  confidence  lift  representativity  leverage  conviction  \\\n",
            "0     0.75        1.00   1.0               1.0       0.0         inf   \n",
            "1     0.75        0.75   1.0               1.0       0.0         1.0   \n",
            "2     0.75        1.00   1.0               1.0       0.0         inf   \n",
            "3     0.75        0.75   1.0               1.0       0.0         1.0   \n",
            "4     0.50        1.00   1.0               1.0       0.0         inf   \n",
            "\n",
            "   zhangs_metric  jaccard  certainty  kulczynski  \n",
            "0            0.0     0.75        0.0       0.875  \n",
            "1            0.0     0.75        0.0       0.875  \n",
            "2            0.0     0.75        0.0       0.875  \n",
            "3            0.0     0.75        0.0       0.875  \n",
            "4            0.0     0.50        0.0       0.750  \n"
          ]
        },
        {
          "output_type": "stream",
          "name": "stderr",
          "text": [
            "/usr/local/lib/python3.10/dist-packages/ipykernel/ipkernel.py:283: DeprecationWarning: `should_run_async` will not call `transform_cell` automatically in the future. Please pass the result to `transformed_cell` argument and any exception that happen during thetransform in `preprocessing_exc_tuple` in IPython 7.17 and above.\n",
            "  and should_run_async(code)\n",
            "/usr/local/lib/python3.10/dist-packages/mlxtend/frequent_patterns/association_rules.py:182: RuntimeWarning: invalid value encountered in divide\n",
            "  cert_metric = np.where(certainty_denom == 0, 0, certainty_num / certainty_denom)\n"
          ]
        }
      ]
    },
    {
      "cell_type": "markdown",
      "source": [
        "# Eclat Algorithm"
      ],
      "metadata": {
        "id": "3nJMawF2T6Lh"
      }
    },
    {
      "cell_type": "code",
      "source": [
        "!pip install PyECLAT\n"
      ],
      "metadata": {
        "colab": {
          "base_uri": "https://localhost:8080/"
        },
        "id": "fYp3W9inTzfl",
        "outputId": "76fee09d-388e-490e-fc7b-02f4301866cb"
      },
      "execution_count": 8,
      "outputs": [
        {
          "output_type": "stream",
          "name": "stderr",
          "text": [
            "/usr/local/lib/python3.10/dist-packages/ipykernel/ipkernel.py:283: DeprecationWarning: `should_run_async` will not call `transform_cell` automatically in the future. Please pass the result to `transformed_cell` argument and any exception that happen during thetransform in `preprocessing_exc_tuple` in IPython 7.17 and above.\n",
            "  and should_run_async(code)\n"
          ]
        },
        {
          "output_type": "stream",
          "name": "stdout",
          "text": [
            "Collecting PyECLAT\n",
            "  Downloading pyECLAT-1.0.2-py3-none-any.whl.metadata (4.0 kB)\n",
            "Requirement already satisfied: pandas>=0.25.3 in /usr/local/lib/python3.10/dist-packages (from PyECLAT) (2.2.2)\n",
            "Requirement already satisfied: numpy>=1.17.4 in /usr/local/lib/python3.10/dist-packages (from PyECLAT) (1.26.4)\n",
            "Requirement already satisfied: tqdm>=4.41.1 in /usr/local/lib/python3.10/dist-packages (from PyECLAT) (4.66.6)\n",
            "Requirement already satisfied: python-dateutil>=2.8.2 in /usr/local/lib/python3.10/dist-packages (from pandas>=0.25.3->PyECLAT) (2.8.2)\n",
            "Requirement already satisfied: pytz>=2020.1 in /usr/local/lib/python3.10/dist-packages (from pandas>=0.25.3->PyECLAT) (2024.2)\n",
            "Requirement already satisfied: tzdata>=2022.7 in /usr/local/lib/python3.10/dist-packages (from pandas>=0.25.3->PyECLAT) (2024.2)\n",
            "Requirement already satisfied: six>=1.5 in /usr/local/lib/python3.10/dist-packages (from python-dateutil>=2.8.2->pandas>=0.25.3->PyECLAT) (1.16.0)\n",
            "Downloading pyECLAT-1.0.2-py3-none-any.whl (6.3 kB)\n",
            "Installing collected packages: PyECLAT\n",
            "Successfully installed PyECLAT-1.0.2\n"
          ]
        }
      ]
    },
    {
      "cell_type": "code",
      "source": [
        "from pyECLAT import ECLAT\n",
        "import pandas as pd"
      ],
      "metadata": {
        "colab": {
          "base_uri": "https://localhost:8080/"
        },
        "id": "8scvyvz_T2st",
        "outputId": "05e624f2-12e3-4d9d-ff19-12c54388462e"
      },
      "execution_count": 9,
      "outputs": [
        {
          "output_type": "stream",
          "name": "stderr",
          "text": [
            "/usr/local/lib/python3.10/dist-packages/ipykernel/ipkernel.py:283: DeprecationWarning: `should_run_async` will not call `transform_cell` automatically in the future. Please pass the result to `transformed_cell` argument and any exception that happen during thetransform in `preprocessing_exc_tuple` in IPython 7.17 and above.\n",
            "  and should_run_async(code)\n"
          ]
        }
      ]
    },
    {
      "cell_type": "code",
      "source": [
        "# Dataset in transaction format\n",
        "transactions = [['Milk', 'Bread'],\n",
        "                ['Bread', 'Butter'],\n",
        "                ['Milk', 'Bread', 'Butter'],\n",
        "                ['Bread', 'Butter']]\n",
        "\n",
        "# Convert to dataframe\n",
        "df_transactions = pd.DataFrame(transactions)"
      ],
      "metadata": {
        "colab": {
          "base_uri": "https://localhost:8080/"
        },
        "id": "-g0kZ4C6T-Yh",
        "outputId": "06c76e5e-bb23-4ba4-94b5-b986d894aee5"
      },
      "execution_count": 10,
      "outputs": [
        {
          "output_type": "stream",
          "name": "stderr",
          "text": [
            "/usr/local/lib/python3.10/dist-packages/ipykernel/ipkernel.py:283: DeprecationWarning: `should_run_async` will not call `transform_cell` automatically in the future. Please pass the result to `transformed_cell` argument and any exception that happen during thetransform in `preprocessing_exc_tuple` in IPython 7.17 and above.\n",
            "  and should_run_async(code)\n"
          ]
        }
      ]
    },
    {
      "cell_type": "code",
      "source": [
        "# Using ECLAT\n",
        "eclat = ECLAT(data=df_transactions)\n",
        "rules = eclat.fit(min_support=0.5, min_combination=1, max_combination=3)\n",
        "print(rules)"
      ],
      "metadata": {
        "colab": {
          "base_uri": "https://localhost:8080/"
        },
        "id": "C8O1kpthUBsA",
        "outputId": "ed6b6eda-32fa-4a4c-ed0e-e16a2e428a24"
      },
      "execution_count": 11,
      "outputs": [
        {
          "output_type": "stream",
          "name": "stderr",
          "text": [
            "/usr/local/lib/python3.10/dist-packages/ipykernel/ipkernel.py:283: DeprecationWarning: `should_run_async` will not call `transform_cell` automatically in the future. Please pass the result to `transformed_cell` argument and any exception that happen during thetransform in `preprocessing_exc_tuple` in IPython 7.17 and above.\n",
            "  and should_run_async(code)\n"
          ]
        },
        {
          "output_type": "stream",
          "name": "stdout",
          "text": [
            "Combination 1 by 1\n"
          ]
        },
        {
          "output_type": "stream",
          "name": "stderr",
          "text": [
            "3it [00:00, 52.34it/s]\n"
          ]
        },
        {
          "output_type": "stream",
          "name": "stdout",
          "text": [
            "Combination 2 by 2\n"
          ]
        },
        {
          "output_type": "stream",
          "name": "stderr",
          "text": [
            "3it [00:00, 67.98it/s]\n"
          ]
        },
        {
          "output_type": "stream",
          "name": "stdout",
          "text": [
            "Combination 3 by 3\n"
          ]
        },
        {
          "output_type": "stream",
          "name": "stderr",
          "text": [
            "1it [00:00, 69.00it/s]"
          ]
        },
        {
          "output_type": "stream",
          "name": "stdout",
          "text": [
            "({'Bread': [0, 1, 2, 3], 'Milk': [0, 2], 'Butter': [1, 2, 3], 'Bread & Milk': [0, 2], 'Bread & Butter': [1, 2, 3]}, {'Bread': 1.0, 'Milk': 0.5, 'Butter': 0.75, 'Bread & Milk': 0.5, 'Bread & Butter': 0.75})\n"
          ]
        },
        {
          "output_type": "stream",
          "name": "stderr",
          "text": [
            "\n"
          ]
        }
      ]
    },
    {
      "cell_type": "code",
      "source": [],
      "metadata": {
        "id": "86ia7sJSUDco"
      },
      "execution_count": null,
      "outputs": []
    }
  ]
}