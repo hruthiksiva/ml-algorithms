{
  "nbformat": 4,
  "nbformat_minor": 0,
  "metadata": {
    "colab": {
      "provenance": [],
      "authorship_tag": "ABX9TyPwsgHBpdFpulBbFXCHZmEn",
      "include_colab_link": true
    },
    "kernelspec": {
      "name": "python3",
      "display_name": "Python 3"
    },
    "language_info": {
      "name": "python"
    }
  },
  "cells": [
    {
      "cell_type": "markdown",
      "metadata": {
        "id": "view-in-github",
        "colab_type": "text"
      },
      "source": [
        "<a href=\"https://colab.research.google.com/github/hruthiksiva/ml-algorithms/blob/main/xgbooster.ipynb\" target=\"_parent\"><img src=\"https://colab.research.google.com/assets/colab-badge.svg\" alt=\"Open In Colab\"/></a>"
      ]
    },
    {
      "cell_type": "code",
      "execution_count": 1,
      "metadata": {
        "colab": {
          "base_uri": "https://localhost:8080/"
        },
        "id": "lC77m91Aeqkg",
        "outputId": "d91f1e7e-63bf-40e9-bcea-f954ba313943"
      },
      "outputs": [
        {
          "output_type": "stream",
          "name": "stdout",
          "text": [
            "Requirement already satisfied: xgboost in /usr/local/lib/python3.10/dist-packages (2.1.2)\n",
            "Requirement already satisfied: numpy in /usr/local/lib/python3.10/dist-packages (from xgboost) (1.26.4)\n",
            "Requirement already satisfied: nvidia-nccl-cu12 in /usr/local/lib/python3.10/dist-packages (from xgboost) (2.23.4)\n",
            "Requirement already satisfied: scipy in /usr/local/lib/python3.10/dist-packages (from xgboost) (1.13.1)\n"
          ]
        }
      ],
      "source": [
        "!pip install xgboost"
      ]
    },
    {
      "cell_type": "code",
      "source": [
        "import xgboost as xgb"
      ],
      "metadata": {
        "id": "YoX8RW0neuTU"
      },
      "execution_count": 2,
      "outputs": []
    },
    {
      "cell_type": "code",
      "source": [
        "from sklearn.datasets import fetch_openml"
      ],
      "metadata": {
        "id": "ALzC-VqYeyvA"
      },
      "execution_count": 6,
      "outputs": []
    },
    {
      "cell_type": "code",
      "source": [
        "from sklearn.model_selection import train_test_split"
      ],
      "metadata": {
        "id": "eVFN7cYsfE6x"
      },
      "execution_count": 7,
      "outputs": []
    },
    {
      "cell_type": "code",
      "source": [
        "from sklearn.metrics import mean_squared_error"
      ],
      "metadata": {
        "id": "d39EaB2xfVZM"
      },
      "execution_count": 8,
      "outputs": []
    },
    {
      "cell_type": "code",
      "source": [
        "df = fetch_openml(name='boston',version=1)"
      ],
      "metadata": {
        "id": "0VnN1IQqfYVx"
      },
      "execution_count": 9,
      "outputs": []
    },
    {
      "cell_type": "code",
      "source": [
        "X, y = df.data,df.target"
      ],
      "metadata": {
        "id": "Y_obRJxtfeV8"
      },
      "execution_count": 10,
      "outputs": []
    },
    {
      "cell_type": "code",
      "source": [
        "X_train, X_test, y_train, y_test = train_test_split(X, y, test_size=0.2)"
      ],
      "metadata": {
        "id": "aOUP3W1jfjUh"
      },
      "execution_count": 11,
      "outputs": []
    },
    {
      "cell_type": "code",
      "source": [
        "df_train = xgb.DMatrix(X_train,label =y_train,enable_categorical=True)\n",
        "df_test = xgb.DMatrix(X_test,label =y_test,enable_categorical=True)\n"
      ],
      "metadata": {
        "id": "FjzL9eiOgBYn"
      },
      "execution_count": 15,
      "outputs": []
    },
    {
      "cell_type": "markdown",
      "source": [
        "Key Parameters in XGBoost\n",
        "max_depth: Controls the maximum depth of trees. Higher depth can lead to overfitting.\n",
        "eta (learning rate): Controls how much to update the weights with each tree.\n",
        "objective: Specifies the learning task (e.g., regression, classification).\n",
        "n_estimators: Number of trees to build.\n",
        "subsample: Fraction of samples used for training each tree.\n",
        "colsample_bytree: Fraction of features used for training each tree.\n",
        "gamma: Minimum loss reduction required to split a leaf node.\n",
        "lambda, alpha: Regularization terms.\n"
      ],
      "metadata": {
        "id": "UBrNPBvMgq_4"
      }
    },
    {
      "cell_type": "code",
      "source": [
        "parameters = {\n",
        "    'objective': 'reg:squarederror',\n",
        "    'eta': 0.1,\n",
        "    'max_depth':3,\n",
        "    'n_estimators':100\n",
        "}\n",
        "\n",
        "model = xgb.train(parameters,df_train,100)"
      ],
      "metadata": {
        "colab": {
          "base_uri": "https://localhost:8080/"
        },
        "id": "Ro4sNkTTgRF-",
        "outputId": "a62046d7-387b-4bea-b4c7-024309ffed04"
      },
      "execution_count": 19,
      "outputs": [
        {
          "output_type": "stream",
          "name": "stderr",
          "text": [
            "/usr/local/lib/python3.10/dist-packages/xgboost/core.py:158: UserWarning: [20:33:02] WARNING: /workspace/src/learner.cc:740: \n",
            "Parameters: { \"n_estimators\" } are not used.\n",
            "\n",
            "  warnings.warn(smsg, UserWarning)\n"
          ]
        }
      ]
    },
    {
      "cell_type": "code",
      "source": [
        "y_pred = model.predict(df_test)\n",
        "mean_squared_error(y_pred, y_test)"
      ],
      "metadata": {
        "colab": {
          "base_uri": "https://localhost:8080/"
        },
        "id": "7BJY6iyEghJk",
        "outputId": "af2d6936-4726-42f6-f398-7b9a49bab13f"
      },
      "execution_count": 23,
      "outputs": [
        {
          "output_type": "execute_result",
          "data": {
            "text/plain": [
              "9.075362215454406"
            ]
          },
          "metadata": {},
          "execution_count": 23
        }
      ]
    },
    {
      "cell_type": "code",
      "source": [],
      "metadata": {
        "id": "6A4uwdS7iFWH"
      },
      "execution_count": null,
      "outputs": []
    }
  ]
}